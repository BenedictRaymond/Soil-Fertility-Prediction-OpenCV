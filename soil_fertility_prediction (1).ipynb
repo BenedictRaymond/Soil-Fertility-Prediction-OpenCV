{
  "nbformat": 4,
  "nbformat_minor": 0,
  "metadata": {
    "colab": {
      "provenance": []
    },
    "kernelspec": {
      "name": "python3",
      "display_name": "Python 3"
    },
    "language_info": {
      "name": "python"
    }
  },
  "cells": [
    {
      "cell_type": "code",
      "execution_count": null,
      "metadata": {
        "id": "bxUZUmgrgQAe"
      },
      "outputs": [],
      "source": [
        "import numpy as np\n",
        "import pandas as pd\n",
        "from sklearn.model_selection import train_test_split, GridSearchCV\n",
        "from sklearn.preprocessing import StandardScaler\n",
        "from sklearn.ensemble import RandomForestRegressor\n",
        "from sklearn.ensemble import GradientBoostingRegressor\n",
        "from sklearn.linear_model import LinearRegression\n",
        "from sklearn.svm import SVR\n",
        "from sklearn.neighbors import KNeighborsRegressor\n",
        "from sklearn.metrics import mean_squared_error, r2_score\n",
        "import matplotlib.pyplot as plt\n",
        "import cv2\n",
        "import os\n",
        "from tqdm import tqdm\n",
        "import joblib"
      ]
    },
    {
      "cell_type": "code",
      "source": [
        "def create_soil_image(fertility_level):\n",
        "    # Create a base image\n",
        "    img = np.zeros((224, 224, 3), dtype=np.uint8)\n",
        "\n",
        "    # Define color ranges based on fertility\n",
        "    if fertility_level < 3:\n",
        "        color_range = ((150, 180), (150, 180), (150, 180))  # Light colors for low fertility\n",
        "    elif fertility_level < 7:\n",
        "        color_range = ((100, 150), (80, 130), (60, 110))    # Medium colors for moderate fertility\n",
        "    else:\n",
        "        color_range = ((60, 100), (40, 80), (20, 60))       # Dark colors for high fertility\n",
        "\n",
        "    # Fill the image with a base color\n",
        "    base_color = [np.random.randint(low, high) for low, high in color_range]\n",
        "    img[:] = base_color\n",
        "\n",
        "    # Add some texture\n",
        "    for _ in range(10000):\n",
        "        x = np.random.randint(0, 224)\n",
        "        y = np.random.randint(0, 224)\n",
        "        color = [np.random.randint(max(0, c-20), min(255, c+20)) for c in base_color]\n",
        "        cv2.circle(img, (x, y), np.random.randint(1, 5), color, -1)\n",
        "\n",
        "    # Add some \"organic matter\" specks for higher fertility soils\n",
        "    if fertility_level > 5:\n",
        "        for _ in range(50):\n",
        "            x = np.random.randint(0, 224)\n",
        "            y = np.random.randint(0, 224)\n",
        "            cv2.circle(img, (x, y), np.random.randint(1, 3), (20, 20, 20), -1)\n",
        "\n",
        "    return img"
      ],
      "metadata": {
        "id": "qWMh1jdtgdib"
      },
      "execution_count": null,
      "outputs": []
    },
    {
      "cell_type": "code",
      "source": [
        "def generate_dataset(output_dir, num_images=1000, fertility_levels=10):\n",
        "    os.makedirs(output_dir, exist_ok=True)\n",
        "\n",
        "    # Create directories for each fertility level\n",
        "    for level in range(fertility_levels):\n",
        "        os.makedirs(os.path.join(output_dir, str(level)), exist_ok=True)\n",
        "\n",
        "    images_per_level = num_images // fertility_levels\n",
        "\n",
        "    for level in range(fertility_levels):\n",
        "        for i in tqdm(range(images_per_level), desc=f\"Generating images for fertility level {level}\"):\n",
        "            # Add some noise to the fertility level\n",
        "            fertility_level = level + np.random.uniform(-0.5, 0.5)\n",
        "            fertility_level = max(0, min(9.99, fertility_level))  # Ensure it's between 0 and 9.99\n",
        "\n",
        "            img = create_soil_image(fertility_level)\n",
        "\n",
        "            # Save the image\n",
        "            img_path = os.path.join(output_dir, str(level), f\"soil_{level}_{i:04d}.jpg\")\n",
        "            cv2.imwrite(img_path, cv2.cvtColor(img, cv2.COLOR_RGB2BGR))"
      ],
      "metadata": {
        "id": "XVB-UNVngnbh"
      },
      "execution_count": null,
      "outputs": []
    },
    {
      "cell_type": "code",
      "source": [
        "if __name__ == \"__main__\":\n",
        "    output_dir = \"synthetic_soil_datasetv1\"\n",
        "    generate_dataset(output_dir)\n",
        "    print('\\n')\n",
        "    print(f\"Dataset generated in {output_dir}\")"
      ],
      "metadata": {
        "colab": {
          "base_uri": "https://localhost:8080/"
        },
        "id": "pNwxwywWgv84",
        "outputId": "825b3e08-2221-47fc-cdf3-1a5f4399e693"
      },
      "execution_count": null,
      "outputs": [
        {
          "output_type": "stream",
          "name": "stderr",
          "text": [
            "Generating images for fertility level 0: 100%|██████████| 100/100 [00:29<00:00,  3.39it/s]\n",
            "Generating images for fertility level 1: 100%|██████████| 100/100 [00:28<00:00,  3.48it/s]\n",
            "Generating images for fertility level 2: 100%|██████████| 100/100 [00:29<00:00,  3.40it/s]\n",
            "Generating images for fertility level 3: 100%|██████████| 100/100 [00:28<00:00,  3.57it/s]\n",
            "Generating images for fertility level 4: 100%|██████████| 100/100 [00:28<00:00,  3.48it/s]\n",
            "Generating images for fertility level 5: 100%|██████████| 100/100 [00:27<00:00,  3.62it/s]\n",
            "Generating images for fertility level 6: 100%|██████████| 100/100 [00:28<00:00,  3.53it/s]\n",
            "Generating images for fertility level 7: 100%|██████████| 100/100 [00:28<00:00,  3.50it/s]\n",
            "Generating images for fertility level 8: 100%|██████████| 100/100 [00:28<00:00,  3.49it/s]\n",
            "Generating images for fertility level 9: 100%|██████████| 100/100 [00:29<00:00,  3.43it/s]"
          ]
        },
        {
          "output_type": "stream",
          "name": "stdout",
          "text": [
            "\n",
            "\n",
            "Dataset generated in synthetic_soil_datasetv1\n"
          ]
        },
        {
          "output_type": "stream",
          "name": "stderr",
          "text": [
            "\n"
          ]
        }
      ]
    },
    {
      "cell_type": "code",
      "source": [
        "def extract_features(image_path):\n",
        "    img = cv2.imread(image_path)\n",
        "    img = cv2.cvtColor(img, cv2.COLOR_BGR2RGB)\n",
        "\n",
        "    # Resize image to ensure consistent size\n",
        "    img = cv2.resize(img, (224, 224))\n",
        "\n",
        "    # Extract color features\n",
        "    average_color = np.mean(img, axis=(0, 1))\n",
        "\n",
        "    # Extract texture features using Gray-Level Co-Occurrence Matrix (GLCM)\n",
        "    gray = cv2.cvtColor(img, cv2.COLOR_RGB2GRAY)\n",
        "    glcm = cv2.getGaborKernel((21, 21), 8.0, np.pi/4, 10.0, 0.5, 0, ktype=cv2.CV_32F)\n",
        "    filtered = cv2.filter2D(gray, cv2.CV_8UC3, glcm)\n",
        "    texture_features = np.mean(filtered), np.std(filtered)\n",
        "\n",
        "    # Combine features\n",
        "    features = np.concatenate([average_color, texture_features])\n",
        "    return features"
      ],
      "metadata": {
        "id": "h625WXV1g8RO"
      },
      "execution_count": null,
      "outputs": []
    },
    {
      "cell_type": "code",
      "source": [
        "def load_dataset(data_path):\n",
        "    data = []\n",
        "    labels = []\n",
        "\n",
        "    for fertility_level in os.listdir(data_path):\n",
        "        level_path = os.path.join(data_path, fertility_level)\n",
        "        if os.path.isdir(level_path):\n",
        "            for image_file in tqdm(os.listdir(level_path), desc=f\"Processing {fertility_level}\"):\n",
        "                image_path = os.path.join(level_path, image_file)\n",
        "                features = extract_features(image_path)\n",
        "                data.append(features)\n",
        "                labels.append(float(fertility_level))\n",
        "    return np.array(data), np.array(labels)"
      ],
      "metadata": {
        "id": "lCPNAh1xhry-"
      },
      "execution_count": null,
      "outputs": []
    },
    {
      "cell_type": "code",
      "source": [
        "def train_model(X, y):\n",
        "    # Split data\n",
        "    X_train, X_test, y_train, y_test = train_test_split(X, y, test_size=0.2, random_state=42)\n",
        "\n",
        "    # Scaling the data\n",
        "    scaler = StandardScaler()\n",
        "    X_train_scaled = scaler.fit_transform(X_train)\n",
        "    X_test_scaled = scaler.transform(X_test)\n",
        "\n",
        "    # Define the model\n",
        "    model = GradientBoostingRegressor(random_state=42)\n",
        "\n",
        "    # Define hyperparameter grid for tuning\n",
        "    param_grid = {\n",
        "        'n_estimators': [100, 200, 300],\n",
        "        'learning_rate': [0.01, 0.05, 0.1, 0.2],\n",
        "        'max_depth': [3, 4, 5],\n",
        "        'min_samples_split': [2, 5, 10],\n",
        "        'min_samples_leaf': [1, 2, 4]\n",
        "    }\n",
        "\n",
        "    # Initialize GridSearchCV or RandomizedSearchCV\n",
        "    grid_search = GridSearchCV(estimator=model, param_grid=param_grid,\n",
        "                               cv=5, n_jobs=-1, scoring='neg_mean_squared_error', verbose=1)\n",
        "\n",
        "    # Train the model with grid search\n",
        "    grid_search.fit(X_train_scaled, y_train)\n",
        "\n",
        "    # Best model\n",
        "    best_model = grid_search.best_estimator_\n",
        "\n",
        "    # Predictions\n",
        "    y_pred = best_model.predict(X_test_scaled)\n",
        "\n",
        "    # Performance metrics\n",
        "    mse = mean_squared_error(y_test, y_pred)\n",
        "    r2 = r2_score(y_test, y_pred)\n",
        "\n",
        "    print(f\"Best Hyperparameters: {grid_search.best_params_}\")\n",
        "    print(f\"Mean Squared Error: {mse}\")\n",
        "    print(f\"R-squared Score: {r2}\")\n",
        "\n",
        "    return best_model, scaler"
      ],
      "metadata": {
        "id": "_YF3_6wBhubL"
      },
      "execution_count": null,
      "outputs": []
    },
    {
      "cell_type": "code",
      "source": [
        "def categorize_fertility(fertility_level):\n",
        "    if fertility_level < 4.88:\n",
        "        return 'Low fertility'\n",
        "    elif fertility_level < 6.88:\n",
        "        return 'Medium fertility'\n",
        "    else:\n",
        "        return 'High fertility'"
      ],
      "metadata": {
        "id": "Dmc7Nq6VX-H1"
      },
      "execution_count": null,
      "outputs": []
    },
    {
      "cell_type": "code",
      "source": [
        "def predict_fertility(model, scaler, image_path):\n",
        "    features = extract_features(image_path)\n",
        "    features_scaled = scaler.transform(features.reshape(1, -1))\n",
        "    prediction = model.predict(features_scaled)\n",
        "    return prediction[0]"
      ],
      "metadata": {
        "id": "hyBq6NVIhxZu"
      },
      "execution_count": null,
      "outputs": []
    },
    {
      "cell_type": "code",
      "source": [],
      "metadata": {
        "id": "A8v4xPNeX6d-"
      },
      "execution_count": null,
      "outputs": []
    },
    {
      "cell_type": "code",
      "source": [
        "if __name__ == \"__main__\":\n",
        "    data_path = \"/content/synthetic_soil_datasetv1\"\n",
        "    X, y = load_dataset(data_path)\n",
        "    model, scaler = train_model(X, y)\n",
        "\n",
        "    # Save the trained model and scaler\n",
        "    joblib.dump(model, 'soil_fertility_model.pkl')\n",
        "    joblib.dump(scaler, 'scaler.pkl')"
      ],
      "metadata": {
        "colab": {
          "base_uri": "https://localhost:8080/"
        },
        "id": "74IKMC1jh0Lv",
        "outputId": "1ff5ee85-8d66-4e1d-f644-669e67ca60e7"
      },
      "execution_count": null,
      "outputs": [
        {
          "output_type": "stream",
          "name": "stderr",
          "text": [
            "Processing 8: 100%|██████████| 100/100 [00:00<00:00, 263.02it/s]\n",
            "Processing 0: 100%|██████████| 100/100 [00:00<00:00, 266.38it/s]\n",
            "Processing 6: 100%|██████████| 100/100 [00:00<00:00, 129.80it/s]\n",
            "Processing 9: 100%|██████████| 100/100 [00:00<00:00, 149.69it/s]\n",
            "Processing 7: 100%|██████████| 100/100 [00:00<00:00, 212.84it/s]\n",
            "Processing 1: 100%|██████████| 100/100 [00:00<00:00, 133.44it/s]\n",
            "Processing 5: 100%|██████████| 100/100 [00:00<00:00, 264.58it/s]\n",
            "Processing 2: 100%|██████████| 100/100 [00:00<00:00, 271.34it/s]\n",
            "Processing 3: 100%|██████████| 100/100 [00:00<00:00, 256.04it/s]\n",
            "Processing 4: 100%|██████████| 100/100 [00:00<00:00, 258.91it/s]"
          ]
        },
        {
          "output_type": "stream",
          "name": "stdout",
          "text": [
            "Fitting 5 folds for each of 324 candidates, totalling 1620 fits\n"
          ]
        },
        {
          "output_type": "stream",
          "name": "stderr",
          "text": [
            "\n"
          ]
        },
        {
          "output_type": "stream",
          "name": "stdout",
          "text": [
            "Best Hyperparameters: {'learning_rate': 0.05, 'max_depth': 3, 'min_samples_leaf': 2, 'min_samples_split': 2, 'n_estimators': 100}\n",
            "Mean Squared Error: 0.6973635462435294\n",
            "R-squared Score: 0.9065935056398385\n"
          ]
        }
      ]
    },
    {
      "cell_type": "code",
      "source": [],
      "metadata": {
        "id": "llGD7pVhMN7G"
      },
      "execution_count": null,
      "outputs": []
    },
    {
      "cell_type": "code",
      "source": [
        "if __name__ == \"__main__\":\n",
        "  model = joblib.load('soil_fertility_model.pkl')\n",
        "  scaler = joblib.load('scaler.pkl')\n",
        "  image_path = \"/content/test_002.jpg\"\n",
        "  fertility_prediction = predict_fertility(model, scaler, image_path)\n",
        "  print(f\"Predicted Soil Fertility: {fertility_prediction}\")\n",
        "  print(f\"Soil Category: {categorize_fertility(fertility_prediction)}\")"
      ],
      "metadata": {
        "colab": {
          "base_uri": "https://localhost:8080/"
        },
        "id": "_hdCpXelH8mP",
        "outputId": "efeea93f-30e6-4c52-a3fe-b40a6d869852"
      },
      "execution_count": null,
      "outputs": [
        {
          "output_type": "stream",
          "name": "stdout",
          "text": [
            "Predicted Soil Fertility: 7.823010179407664\n",
            "Soil Category: High fertility\n"
          ]
        }
      ]
    },
    {
      "cell_type": "code",
      "source": [],
      "metadata": {
        "id": "ku3o3_Imeccq"
      },
      "execution_count": null,
      "outputs": []
    }
  ]
}